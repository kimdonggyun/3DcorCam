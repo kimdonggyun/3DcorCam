{
 "cells": [
  {
   "cell_type": "markdown",
   "metadata": {},
   "source": [
    "# save the images as video\n",
    "# Basler ace camera"
   ]
  },
  {
   "cell_type": "code",
   "execution_count": 6,
   "metadata": {},
   "outputs": [],
   "source": [
    "# import packages and functions\n",
    "from pypylon import pylon\n",
    "from imageio import get_writer\n",
    "import numpy as np\n",
    "import os\n",
    "import cv2\n",
    "from datetime import datetime\n",
    "import matplotlib.pyplot as plt\n",
    "import sys\n",
    "from camcommands import camOpen\n",
    "from multiprocessing import Process"
   ]
  },
  {
   "cell_type": "markdown",
   "metadata": {},
   "source": [
    "connect camera with OpenCV"
   ]
  },
  {
   "cell_type": "code",
   "execution_count": 3,
   "metadata": {},
   "outputs": [
    {
     "name": "stdout",
     "output_type": "stream",
     "text": [
      "['21585923', '21585923']\n",
      "['21585923', '21585923']\n",
      "['21585923', '21585923']\n",
      "['21585923', '21585923']\n",
      "['21585923', '21585923']\n",
      "['21585923', '21585923']\n",
      "['21585923', '21585923']\n",
      "['21585923', '21585923']\n",
      "['21585923', '21585923']\n",
      "['21585923', '21566554']\n",
      "['21585923', '21566554']\n",
      "total number of devices: 2\n",
      "using acA1300-30gc as IP 169.254.4.51 SN 21585923\n",
      "using acA1300-30gc as IP 169.254.91.231 SN 21566554\n"
     ]
    }
   ],
   "source": [
    "# list cameras connected with PC\n",
    "# 0. set number of cameras to use\n",
    "cameras_2_use = 2\n",
    "\n",
    "# 1. get transport layer and all attached devices\n",
    "tl_factory = pylon.TlFactory.GetInstance()\n",
    "devices = tl_factory.EnumerateDevices() #enumerate devices connected\n",
    "\n",
    "# 1.1 soft ware issue from pylon. this block may be deleted later if the issue is solved\n",
    "# here, get instance and enumerate devices until two different cameras are recognized\n",
    "temp_dev_list = []\n",
    "for i, dev_info in enumerate(devices):\n",
    "    temp_dev_list.append(dev_info.GetSerialNumber())\n",
    "while temp_dev_list[0] == temp_dev_list[1]:\n",
    "    tl_factory = pylon.TlFactory.GetInstance()\n",
    "    devices = tl_factory.EnumerateDevices()\n",
    "    temp_dev_list = []\n",
    "    for i, dev_info in enumerate(devices):\n",
    "        temp_dev_list.append(dev_info.GetSerialNumber())\n",
    "    print(temp_dev_list)\n",
    "    if temp_dev_list[0] != temp_dev_list[1]:\n",
    "        break\n",
    "\n",
    "print(temp_dev_list)\n",
    "\"\"\"\n",
    "# 1.1 software issue from pylon. this block may be deleted later\n",
    "# remove duplicated camera list\n",
    "set_devices = []\n",
    "for device in devices:\n",
    "    if device not in set_devices:\n",
    "        set_devices.append(device)\n",
    "    else:\n",
    "        pass\n",
    "set_devices = tuple(set_devices)\n",
    "\"\"\"\n",
    "\n",
    "# 2. check the devices information\n",
    "if len(devices) == 0:\n",
    "    raise pylon.RuntimeException(\"No camera connected\")\n",
    "else:\n",
    "    print(\"total number of devices:\", len(devices)) # print total number of devices connected\n",
    "    for i, dev_info in enumerate(devices): # \n",
    "        if dev_info.GetDeviceClass() == 'BaslerGigE': # check if the connected cameras are GigE model. Otherwise software trigger won't work\n",
    "            print(\"using %s as IP %s SN %s\" % (dev_info.GetModelName(), dev_info.GetIpAddress() ,dev_info.GetSerialNumber()))\n",
    "        else:\n",
    "            raise EnvironmentError(\"no GigE device found\")\n",
    "\n",
    "# 3. create instant array and attach all devices on the Array\n",
    "cams = pylon.InstantCameraArray(min(len(devices), cameras_2_use)) # create instant\n",
    "for i, cam in enumerate(cams):\n",
    "    cam.Attach(tl_factory.CreateDevice(devices[i]))"
   ]
  },
  {
   "cell_type": "code",
   "execution_count": 4,
   "metadata": {},
   "outputs": [
    {
     "name": "stdout",
     "output_type": "stream",
     "text": [
      "Setting device  acA1300_SN03 (21585923)\n",
      "962 1286 2000 10.0\n",
      "Setting device  acA1300_SN01 (21566554)\n",
      "962 1286 2000 10.0\n"
     ]
    }
   ],
   "source": [
    "# setting camera's parameters\n",
    "fps = 10 # frame per sec\n",
    "ExposureTime = 2000 # in µs\n",
    "Height, width = 962, 1286 # in pixel\n",
    "\n",
    "for cam in cams:\n",
    "    cam.Open() # open camera to change the parameter\n",
    "    print(\"Setting device \", cam.GetDeviceInfo().GetFriendlyName())\n",
    "    cam.Height.SetValue(Height)\n",
    "    cam.Width.SetValue(width)\n",
    "    cam.ExposureTimeRaw.SetValue(ExposureTime)\n",
    "    cam.AcquisitionFrameRateAbs.SetValue(fps)\n",
    "    print(cam.Height.GetValue(), cam.Width.GetValue(), cam.ExposureTimeRaw.GetValue(), cam.AcquisitionFrameRateAbs.GetValue())\n",
    "\n",
    "    cam.Close() # close camera\n",
    "    "
   ]
  },
  {
   "cell_type": "code",
   "execution_count": 18,
   "metadata": {},
   "outputs": [
    {
     "name": "stdout",
     "output_type": "stream",
     "text": [
      "recording start with acA1300_SN01 (21566554) at 2021-11-02 16:06:10.753732\n",
      "recording start with acA1300_SN01 (21566554) at 2021-11-02 16:06:10.760551\n"
     ]
    }
   ],
   "source": [
    "# capturing video with multiple cameras at simultaneously\n",
    "video_pos = {0:\"front\", 1:\"side\"}\n",
    "\n",
    "#function for simple video recording\n",
    "def video_recording(file_dir, filename, caminstance):\n",
    "    with get_writer(os.path.join(file_dir, filename)) as writer:\n",
    "        print(\"recording start with %s at %s\" % (cam.DeviceInfo.GetFriendlyName(), datetime.now()))\n",
    "        caminstance.StopGrabbing()\n",
    "        caminstance.StartGrabbingMax(100)\n",
    "        while caminstance.IsGrabbing():\n",
    "            res = caminstance.RetrieveResult(100)\n",
    "            writer.append_data(res.Array)\n",
    "            res.Release()\n",
    "        print(\"recording finish with %s at %s\" % (cam.DeviceInfo.GetFriendlyName(), datetime.now()))\n",
    "\n",
    "cam1 = Process(target=video_recording, \n",
    "                args=(\"/Users/dkim/Desktop/basler_camera/recording\", \"test_multicore_%s.avi\" % (video_pos[0]), cams[0]))\n",
    "cam2 = Process(target=video_recording, \n",
    "                args=(\"/Users/dkim/Desktop/basler_camera/recording\", \"test_multicore_%s.avi\" % (video_pos[1]), cams[1]))\n",
    "cam1.start()\n",
    "cam2.start()\n",
    "cam1.join()\n",
    "cam2.join()"
   ]
  },
  {
   "cell_type": "code",
   "execution_count": 75,
   "metadata": {},
   "outputs": [
    {
     "ename": "RuntimeException",
     "evalue": "Could not apply configuration. Pylon::GenericException caught in OnOpened method msg=Device doesn't support action commands. The ActionCommand features are not writable. : RuntimeException thrown (file 'ActionTriggerConfiguration.h', line 124) : RuntimeException thrown (file 'ActionTriggerConfiguration.h', line 212)",
     "output_type": "error",
     "traceback": [
      "\u001b[0;31m---------------------------------------------------------------------------\u001b[0m",
      "\u001b[0;31mRuntimeException\u001b[0m                          Traceback (most recent call last)",
      "\u001b[0;32m/var/folders/jb/_mhmzp250s942sc7s_rh5tzr5d_k2l/T/ipykernel_5749/2907918498.py\u001b[0m in \u001b[0;36m<module>\u001b[0;34m\u001b[0m\n\u001b[1;32m      5\u001b[0m     \u001b[0;32mwith\u001b[0m \u001b[0mget_writer\u001b[0m\u001b[0;34m(\u001b[0m\u001b[0;34m\"/Users/dkim/Desktop/basler_camera/recording/%s_multi_cams.avi\"\u001b[0m \u001b[0;34m%\u001b[0m \u001b[0;34m(\u001b[0m\u001b[0mfilename\u001b[0m\u001b[0;34m[\u001b[0m\u001b[0mi\u001b[0m\u001b[0;34m]\u001b[0m \u001b[0;34m,\u001b[0m\u001b[0;34m)\u001b[0m \u001b[0;34m)\u001b[0m \u001b[0;32mas\u001b[0m \u001b[0mwriter\u001b[0m\u001b[0;34m:\u001b[0m\u001b[0;34m\u001b[0m\u001b[0;34m\u001b[0m\u001b[0m\n\u001b[1;32m      6\u001b[0m         \u001b[0mcam\u001b[0m\u001b[0;34m.\u001b[0m\u001b[0mStopGrabbing\u001b[0m\u001b[0;34m(\u001b[0m\u001b[0;34m)\u001b[0m\u001b[0;34m\u001b[0m\u001b[0;34m\u001b[0m\u001b[0m\n\u001b[0;32m----> 7\u001b[0;31m         \u001b[0mcam\u001b[0m\u001b[0;34m.\u001b[0m\u001b[0mStartGrabbingMax\u001b[0m\u001b[0;34m(\u001b[0m\u001b[0;36m100\u001b[0m\u001b[0;34m)\u001b[0m\u001b[0;34m\u001b[0m\u001b[0;34m\u001b[0m\u001b[0m\n\u001b[0m\u001b[1;32m      8\u001b[0m         \u001b[0;32mwhile\u001b[0m \u001b[0mcam\u001b[0m\u001b[0;34m.\u001b[0m\u001b[0mIsGrabbing\u001b[0m\u001b[0;34m(\u001b[0m\u001b[0;34m)\u001b[0m\u001b[0;34m:\u001b[0m\u001b[0;34m\u001b[0m\u001b[0;34m\u001b[0m\u001b[0m\n\u001b[1;32m      9\u001b[0m             \u001b[0mres\u001b[0m \u001b[0;34m=\u001b[0m \u001b[0mcam\u001b[0m\u001b[0;34m.\u001b[0m\u001b[0mRetrieveResult\u001b[0m\u001b[0;34m(\u001b[0m\u001b[0;36m100\u001b[0m\u001b[0;34m)\u001b[0m\u001b[0;34m\u001b[0m\u001b[0;34m\u001b[0m\u001b[0m\n",
      "\u001b[0;32m~/opt/anaconda3/envs/imgtrack/lib/python3.7/site-packages/pypylon/pylon.py\u001b[0m in \u001b[0;36mStartGrabbingMax\u001b[0;34m(self, *args)\u001b[0m\n\u001b[1;32m   3405\u001b[0m \u001b[0;34m\u001b[0m\u001b[0m\n\u001b[1;32m   3406\u001b[0m         \"\"\"\n\u001b[0;32m-> 3407\u001b[0;31m         \u001b[0;32mreturn\u001b[0m \u001b[0m_pylon\u001b[0m\u001b[0;34m.\u001b[0m\u001b[0mInstantCamera_StartGrabbingMax\u001b[0m\u001b[0;34m(\u001b[0m\u001b[0mself\u001b[0m\u001b[0;34m,\u001b[0m \u001b[0;34m*\u001b[0m\u001b[0margs\u001b[0m\u001b[0;34m)\u001b[0m\u001b[0;34m\u001b[0m\u001b[0;34m\u001b[0m\u001b[0m\n\u001b[0m\u001b[1;32m   3408\u001b[0m \u001b[0;34m\u001b[0m\u001b[0m\n\u001b[1;32m   3409\u001b[0m     \u001b[0;32mdef\u001b[0m \u001b[0mRetrieveResult\u001b[0m\u001b[0;34m(\u001b[0m\u001b[0mself\u001b[0m\u001b[0;34m,\u001b[0m \u001b[0;34m*\u001b[0m\u001b[0margs\u001b[0m\u001b[0;34m)\u001b[0m \u001b[0;34m->\u001b[0m \u001b[0;34m\"bool\"\u001b[0m\u001b[0;34m:\u001b[0m\u001b[0;34m\u001b[0m\u001b[0;34m\u001b[0m\u001b[0m\n",
      "\u001b[0;31mRuntimeException\u001b[0m: Could not apply configuration. Pylon::GenericException caught in OnOpened method msg=Device doesn't support action commands. The ActionCommand features are not writable. : RuntimeException thrown (file 'ActionTriggerConfiguration.h', line 124) : RuntimeException thrown (file 'ActionTriggerConfiguration.h', line 212)"
     ]
    }
   ],
   "source": [
    "# capturing video with multiple cameras at simultaneously\n",
    "filename = {0:\"front\", 1:\"side\"}\n",
    "\n",
    "#function for simple video recording\n",
    "def video_recording(file_dir, filename, caminstance):\n",
    "    with get_writer(os.path.join(file_dir, filename)) as writer:\n",
    "        \n",
    "        caminstance.StopGrabbing()\n",
    "        caminstance.StartGrabbingMax(100)\n",
    "        while caminstance.IsGrabbing():\n",
    "            res = caminstance.RetrieveResult(100)\n",
    "            writer.append_data(res.Array)\n",
    "            res.Release()\n",
    "\n",
    "for i, cam in enumerate(cams):\n",
    "    with get_writer(\"/Users/dkim/Desktop/basler_camera/recording/%s_multi_cams.avi\" % (filename[i] ,) ) as writer:\n",
    "        cam.StopGrabbing()\n",
    "        cam.StartGrabbingMax(100)\n",
    "        while cam.IsGrabbing():\n",
    "            res = cam.RetrieveResult(100)\n",
    "            writer.append_data(res.Array)\n",
    "            #print(res.BlockID)\n",
    "            res.Release()"
   ]
  },
  {
   "cell_type": "code",
   "execution_count": 17,
   "metadata": {},
   "outputs": [],
   "source": [
    "\"\"\"\n",
    "working with multiple cameras\n",
    "for the detail commands, see here: https://docs.baslerweb.com/action-commands.html#action-device-key\n",
    "short paramer description\n",
    "Action Device Key: 32-bit key to excute a corresponding action on camera\n",
    "Action Group Key: 32-bit key for a group of devices (cameras) to excute an action\n",
    "Action Group Mask: 32-bit key for a subgroup of devies\n",
    "\n",
    "setting up the connection with multiple cameras and checking the parameters\n",
    "\"\"\"\n",
    "\n",
    "# 1. set action key, group key and group mask. As I'm using one group and all cameras in this group working simaltaneously,\n",
    "# I did not set multiple action key, group key and group mask\n",
    "action_key = 0x4711\n",
    "group_key = 0x112233\n",
    "group_mask = pylon.AllGroupMask\n",
    "\n",
    "# 2. Initiate automatic configuration by registering ActionTriggerConfiguration.\n",
    "for cam in cams:\n",
    "    cam.RegisterConfiguration(\n",
    "        pylon.ActionTriggerConfiguration(action_key, group_key, group_mask),\n",
    "        pylon.RegistrationMode_Append,\n",
    "        pylon.Cleanup_Delete\n",
    "        )\n",
    "\n",
    "# 3. Create a suitable ActionCommand object. For that a GigETransportLayer object is needed.\n",
    "gige_tl = tl_factory.CreateTl('BaslerGigE')\n",
    "\n",
    "# 4. Using default value of \"255.255.255.255\" for fourth parameter 'broadcastAddress'.\n",
    "act_cmd = gige_tl.ActionCommand(action_key, group_key, group_mask)"
   ]
  }
 ],
 "metadata": {
  "interpreter": {
   "hash": "9f140f51a507ca230d2865fae58c2e001e9c3439d9e9152fccb487614795348b"
  },
  "kernelspec": {
   "display_name": "Python 3.7.10 64-bit ('imgtrack': conda)",
   "name": "python3"
  },
  "language_info": {
   "codemirror_mode": {
    "name": "ipython",
    "version": 3
   },
   "file_extension": ".py",
   "mimetype": "text/x-python",
   "name": "python",
   "nbconvert_exporter": "python",
   "pygments_lexer": "ipython3",
   "version": "3.7.10"
  },
  "orig_nbformat": 4
 },
 "nbformat": 4,
 "nbformat_minor": 2
}
