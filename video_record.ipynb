{
 "cells": [
  {
   "cell_type": "markdown",
   "metadata": {},
   "source": [
    "# save the images as video\n",
    "# Basler ace camera"
   ]
  },
  {
   "cell_type": "code",
   "execution_count": 2,
   "metadata": {},
   "outputs": [],
   "source": [
    "# import packages and functions\n",
    "from pypylon import pylon\n",
    "from imageio import get_writer\n",
    "import numpy as np\n",
    "import os\n",
    "import cv2\n",
    "from datetime import datetime\n",
    "import matplotlib.pyplot as plt\n",
    "import sys\n",
    "from camcommands import camOpen"
   ]
  },
  {
   "cell_type": "markdown",
   "metadata": {},
   "source": [
    "connect camera with OpenCV"
   ]
  },
  {
   "cell_type": "code",
   "execution_count": 4,
   "metadata": {},
   "outputs": [
    {
     "name": "stdout",
     "output_type": "stream",
     "text": [
      "total number of devices: 1\n",
      "using acA1300-30gc as IP 169.254.91.231\n"
     ]
    }
   ],
   "source": [
    "# list cameras connected with PC\n",
    "\n",
    "# 1. get transport layer and all attached devices\n",
    "tl_factory = pylon.TlFactory.GetInstance()\n",
    "set_devices = tl_factory.EnumerateDevices() #enumerate devices connected\n",
    "\n",
    "\"\"\"\n",
    "# 1.1 software issue from pylon. this block may be deleted later\n",
    "# remove duplicated camera list\n",
    "set_devices = []\n",
    "for device in devices:\n",
    "    if device not in set_devices:\n",
    "        set_devices.append(device)\n",
    "    else:\n",
    "        pass\n",
    "set_devices = tuple(set_devices)\n",
    "\"\"\"\n",
    "# 2. check the devices information\n",
    "if len(set_devices) == 0:\n",
    "    raise pylon.RuntimeException(\"No camera connected\")\n",
    "else:\n",
    "    print(\"total number of devices:\", len(set_devices)) # print total number of devices connected\n",
    "    for dev_info in set_devices: # \n",
    "        if dev_info.GetDeviceClass() == 'BaslerGigE': # check if the connected cameras are GigE model. Otherwise software trigger won't work\n",
    "            print(\"using %s as IP %s\" % (dev_info.GetModelName(), dev_info.GetIpAddress()))\n",
    "            break\n",
    "    else:\n",
    "        raise EnvironmentError(\"no GigE device found\")\n",
    "\n",
    "# 3. create instant array and attach all devices on the Array\n",
    "cams = pylon.InstantCameraArray(len(set_devices)) # create instant\n",
    "for i, cam in enumerate(cams):\n",
    "    cam.Attach(tl_factory.CreateDevice(set_devices[i]))\n"
   ]
  },
  {
   "cell_type": "code",
   "execution_count": 5,
   "metadata": {},
   "outputs": [
    {
     "name": "stdout",
     "output_type": "stream",
     "text": [
      "Setting device  acA1300_SN01 (21566554)\n",
      "962 1286 5000 10.0\n"
     ]
    }
   ],
   "source": [
    "# setting camera's parameters\n",
    "fps = 10 # frame per sec\n",
    "ExposureTime = 5000 # in µs\n",
    "Height, width = 962, 1286 # in pixel\n",
    "\n",
    "for cam in cams:\n",
    "    cam.Open() # open camera to change the parameter\n",
    "    print(\"Setting device \", cam.GetDeviceInfo().GetFriendlyName())\n",
    "    cam.Height.SetValue(Height)\n",
    "    cam.Width.SetValue(width)\n",
    "    cam.ExposureTimeRaw.SetValue(ExposureTime)\n",
    "    cam.AcquisitionFrameRateAbs.SetValue(fps)\n",
    "    print(cam.Height.GetValue(), cam.Width.GetValue(), cam.ExposureTimeRaw.GetValue(), cam.AcquisitionFrameRateAbs.GetValue())\n",
    "\n",
    "    cam.Close() # close camera"
   ]
  },
  {
   "cell_type": "code",
   "execution_count": 9,
   "metadata": {},
   "outputs": [],
   "source": [
    "\"\"\"\n",
    "working with multiple cameras\n",
    "for the detail commands, see here: https://docs.baslerweb.com/action-commands.html#action-device-key\n",
    "short paramer description\n",
    "Action Device Key: 32-bit key to excute a corresponding action on camera\n",
    "Action Group Key: 32-bit key for a group of devices (cameras) to excute an action\n",
    "Action Group Mask: 32-bit key for a subgroup of devies\n",
    "\n",
    "setting up the connection with multiple cameras and checking the parameters\n",
    "\"\"\"\n",
    "\n",
    "# 1. set action key, group key and group mask. As I'm using one group and all cameras in this group working simaltaneously,\n",
    "# I did not set multiple action key, group key and group mask\n",
    "action_key = 0x4711\n",
    "group_key = 0x112233\n",
    "group_mask = pylon.AllGroupMask\n",
    "\n",
    "# 2. Initiate automatic configuration by registering ActionTriggerConfiguration.\n",
    "for cam in cams:\n",
    "    cam.RegisterConfiguration(\n",
    "        pylon.ActionTriggerConfiguration(action_key, group_key, group_mask),\n",
    "        pylon.RegistrationMode_Append,\n",
    "        pylon.Cleanup_Delete\n",
    "        )\n",
    "\n",
    "# 3. Create a suitable ActionCommand object. For that a GigETransportLayer object is needed.\n",
    "gige_tl = tl_factory.CreateTl('BaslerGigE')\n",
    "\n",
    "# 4. Using default value of \"255.255.255.255\" for fourth parameter 'broadcastAddress'.\n",
    "act_cmd = gige_tl.ActionCommand(action_key, group_key, group_mask)"
   ]
  },
  {
   "cell_type": "code",
   "execution_count": 10,
   "metadata": {},
   "outputs": [
    {
     "name": "stderr",
     "output_type": "stream",
     "text": [
      "IMAGEIO FFMPEG_WRITER WARNING: input image is not divisible by macro_block_size=16, resizing from (1286, 962) to (1296, 976) to ensure video compatibility with most codecs and players. To prevent resizing, make your input image divisible by the macro_block_size or set the macro_block_size to 1 (risking incompatibility).\n",
      "[swscaler @ 0x7fa7c1279000] Warning: data is not aligned! This can lead to a speed loss\n"
     ]
    }
   ],
   "source": [
    "# capturing video with multiple cameras at simultaneously\n",
    "filename = {0:\"front\", 1:\"side\"}\n",
    "\n",
    "for i, cam in enumerate(cams):\n",
    "    with get_writer(\"/Users/dkim/Desktop/basler_camera/recording/%s_multi_cams.avi\" % (filename[i] ,) ) as writer:\n",
    "        cam.StopGrabbing()\n",
    "        cam.StartGrabbingMax(300)\n",
    "        while cam.IsGrabbing():\n",
    "            res = cam.RetrieveResult(300)\n",
    "            writer.append_data(res.Array)\n",
    "            #print(res.BlockID)\n",
    "            res.Release()"
   ]
  }
 ],
 "metadata": {
  "interpreter": {
   "hash": "9f140f51a507ca230d2865fae58c2e001e9c3439d9e9152fccb487614795348b"
  },
  "kernelspec": {
   "display_name": "Python 3.7.10 64-bit ('imgtrack': conda)",
   "name": "python3"
  },
  "language_info": {
   "codemirror_mode": {
    "name": "ipython",
    "version": 3
   },
   "file_extension": ".py",
   "mimetype": "text/x-python",
   "name": "python",
   "nbconvert_exporter": "python",
   "pygments_lexer": "ipython3",
   "version": "3.7.10"
  },
  "orig_nbformat": 4
 },
 "nbformat": 4,
 "nbformat_minor": 2
}
