{
 "cells": [
  {
   "cell_type": "markdown",
   "metadata": {},
   "source": [
    "# save the images as video\n",
    "# Basler ace camera"
   ]
  },
  {
   "cell_type": "code",
   "execution_count": 4,
   "metadata": {},
   "outputs": [],
   "source": [
    "# import packages and functions\n",
    "from pypylon import pylon\n",
    "from imageio import get_writer\n",
    "import numpy as np\n",
    "import os\n",
    "import cv2\n",
    "from datetime import datetime\n",
    "import matplotlib.pyplot as plt\n",
    "\n",
    "from camcommands import camOpen"
   ]
  },
  {
   "cell_type": "markdown",
   "metadata": {},
   "source": [
    "connect camera with OpenCV"
   ]
  },
  {
   "cell_type": "code",
   "execution_count": 5,
   "metadata": {},
   "outputs": [
    {
     "name": "stdout",
     "output_type": "stream",
     "text": [
      "total number of devices: 1\n",
      "acA1300_SN01 (21566554)\n",
      "Basler acA1300-30gc#00305317E75A#169.254.91.231:3956\n"
     ]
    }
   ],
   "source": [
    "# list cameras connected with PC\n",
    "\n",
    "# 1. get transport layer and all attached devices\n",
    "tl_factory = pylon.TlFactory.GetInstance()\n",
    "set_devices = tl_factory.EnumerateDevices() #enumerate devices connected\n",
    "\n",
    "\"\"\"\n",
    "# 1.1 software issue from pylon. this block may be deleted later\n",
    "# remove duplicated camera list\n",
    "set_devices = []\n",
    "for device in devices:\n",
    "    if device not in set_devices:\n",
    "        set_devices.append(device)\n",
    "    else:\n",
    "        pass\n",
    "set_devices = tuple(set_devices)\n",
    "\"\"\"\n",
    "\n",
    "# 2. check the devices information\n",
    "if len(set_devices) == 0:\n",
    "    raise pylon.RuntimeException(\"No camera connected\")\n",
    "else:\n",
    "    print(\"total number of devices:\", len(set_devices))\n",
    "    for set_device in set_devices:\n",
    "        print(set_device.GetFriendlyName()) # return readable name\n",
    "        print(set_device.GetFullName()) # return unique code"
   ]
  },
  {
   "cell_type": "code",
   "execution_count": 41,
   "metadata": {},
   "outputs": [
    {
     "name": "stdout",
     "output_type": "stream",
     "text": [
      "Using device  acA1300_SN01 (21566554)\n",
      "962 1286 50000\n"
     ]
    }
   ],
   "source": [
    "# Create an array of instant cameras for the found devices and avoid exceeding a maximum number of devices.\n",
    "cameras = pylon.InstantCameraArray(len(set_devices))\n",
    "# Create and attach all Pylon Devices.\n",
    "fps = 20 # 20 frame per sec\n",
    "ExposureTime = int(1000000/fps) # in µs\n",
    "Height, width = 962, 1286\n",
    "for i, cam in enumerate(cameras):\n",
    "    cam.Attach(tl_factory.CreateDevice(set_devices[i]))\n",
    "\n",
    "    # Print the model name of the camera.\n",
    "    print(\"Using device \", cam.GetDeviceInfo().GetFriendlyName())\n",
    "    \n",
    "    cam.Open() # open camera to get the value of the parameters and change with the new parameters\n",
    "    cam.Height.SetValue(Height)\n",
    "    cam.Width.SetValue(width)\n",
    "    cam.ExposureTimeRaw.SetValue(ExposureTime)\n",
    "    print(cam.Height.GetValue(), cam.Width.GetValue(), cam.ExposureTimeRaw.GetValue())\n",
    "    cam.Close() # close camera after the change of parameter"
   ]
  },
  {
   "cell_type": "code",
   "execution_count": 86,
   "metadata": {},
   "outputs": [
    {
     "name": "stdout",
     "output_type": "stream",
     "text": [
      "Using device  acA1300_SN01 (21566554)\n"
     ]
    },
    {
     "ename": "AttributeError",
     "evalue": "no attribute 'AttachGrabResultBuffer' in GrabResult",
     "output_type": "error",
     "traceback": [
      "\u001b[0;31m---------------------------------------------------------------------------\u001b[0m",
      "\u001b[0;31mAttributeError\u001b[0m                            Traceback (most recent call last)",
      "\u001b[0;32m/var/folders/jb/_mhmzp250s942sc7s_rh5tzr5d_k2l/T/ipykernel_3481/3656625903.py\u001b[0m in \u001b[0;36m<module>\u001b[0;34m\u001b[0m\n\u001b[1;32m     12\u001b[0m     \u001b[0;32mfor\u001b[0m \u001b[0mi\u001b[0m \u001b[0;32min\u001b[0m \u001b[0mrange\u001b[0m\u001b[0;34m(\u001b[0m\u001b[0mcountOfImagesToGrab\u001b[0m\u001b[0;34m)\u001b[0m\u001b[0;34m:\u001b[0m\u001b[0;34m\u001b[0m\u001b[0;34m\u001b[0m\u001b[0m\n\u001b[1;32m     13\u001b[0m         \u001b[0;32mwith\u001b[0m \u001b[0mget_writer\u001b[0m\u001b[0;34m(\u001b[0m\u001b[0;34m'/Users/dkim/Desktop/basler_camera/recording/example1.mkv'\u001b[0m\u001b[0;34m,\u001b[0m \u001b[0mmacro_block_size\u001b[0m\u001b[0;34m=\u001b[0m\u001b[0;36m1\u001b[0m\u001b[0;34m)\u001b[0m \u001b[0;32mas\u001b[0m \u001b[0mwriter\u001b[0m\u001b[0;34m:\u001b[0m\u001b[0;34m\u001b[0m\u001b[0;34m\u001b[0m\u001b[0m\n\u001b[0;32m---> 14\u001b[0;31m             \u001b[0mimg\u001b[0m\u001b[0;34m.\u001b[0m\u001b[0mAttachGrabResultBuffer\u001b[0m\u001b[0;34m(\u001b[0m\u001b[0mcam\u001b[0m\u001b[0;34m.\u001b[0m\u001b[0mRetrieveResult\u001b[0m\u001b[0;34m(\u001b[0m\u001b[0;36m2000\u001b[0m\u001b[0;34m)\u001b[0m\u001b[0;34m)\u001b[0m\u001b[0;34m\u001b[0m\u001b[0;34m\u001b[0m\u001b[0m\n\u001b[0m\u001b[1;32m     15\u001b[0m             \u001b[0;32mif\u001b[0m \u001b[0mi\u001b[0m \u001b[0;34m>\u001b[0m \u001b[0mcountOfImagesToGrab\u001b[0m\u001b[0;34m:\u001b[0m\u001b[0;34m\u001b[0m\u001b[0;34m\u001b[0m\u001b[0m\n\u001b[1;32m     16\u001b[0m                 \u001b[0mcam\u001b[0m\u001b[0;34m.\u001b[0m\u001b[0mStopGrabbing\u001b[0m\u001b[0;34m(\u001b[0m\u001b[0;34m)\u001b[0m\u001b[0;34m\u001b[0m\u001b[0;34m\u001b[0m\u001b[0m\n",
      "\u001b[0;32m~/opt/anaconda3/envs/imgtrack/lib/python3.7/site-packages/pypylon/pylon.py\u001b[0m in \u001b[0;36m__getattr__\u001b[0;34m(self, attribute)\u001b[0m\n\u001b[1;32m   2133\u001b[0m \u001b[0;34m\u001b[0m\u001b[0m\n\u001b[1;32m   2134\u001b[0m     \u001b[0;31m# Nothing found -> Raise AttributeError\u001b[0m\u001b[0;34m\u001b[0m\u001b[0;34m\u001b[0m\u001b[0;34m\u001b[0m\u001b[0m\n\u001b[0;32m-> 2135\u001b[0;31m         \u001b[0;32mraise\u001b[0m \u001b[0mAttributeError\u001b[0m\u001b[0;34m(\u001b[0m\u001b[0;34m\"no attribute '%s' in GrabResult\"\u001b[0m \u001b[0;34m%\u001b[0m \u001b[0mattribute\u001b[0m\u001b[0;34m)\u001b[0m\u001b[0;34m\u001b[0m\u001b[0;34m\u001b[0m\u001b[0m\n\u001b[0m\u001b[1;32m   2136\u001b[0m \u001b[0;34m\u001b[0m\u001b[0m\n\u001b[1;32m   2137\u001b[0m     \u001b[0;32mdef\u001b[0m \u001b[0m__setattr__\u001b[0m\u001b[0;34m(\u001b[0m\u001b[0mself\u001b[0m\u001b[0;34m,\u001b[0m \u001b[0mattribute\u001b[0m\u001b[0;34m,\u001b[0m \u001b[0mval\u001b[0m\u001b[0;34m)\u001b[0m\u001b[0;34m:\u001b[0m\u001b[0;34m\u001b[0m\u001b[0;34m\u001b[0m\u001b[0m\n",
      "\u001b[0;31mAttributeError\u001b[0m: no attribute 'AttachGrabResultBuffer' in GrabResult"
     ]
    }
   ],
   "source": [
    "# record video and save it\n",
    "for i, cam in enumerate(cameras):\n",
    "    imges = pylon.PylonImage() # create empty img space\n",
    "    time_initiated = datetime.now() # set the time initiated\n",
    "    print(\"Using device \", cam.GetDeviceInfo().GetFriendlyName())\n",
    "\n",
    "    cam.StopGrabbing()\n",
    "    cam.Open() # open camera for communication\n",
    "\n",
    "    cam.StartGrabbing() # start grabbing video or images\n",
    "    video_recording_time = 1*60 #\n",
    "    while cam.IsGrabbing():\n",
    "        with get_writer('/Users/dkim/Desktop/basler_camera/recording/example1.mkv', macro_block_size=1) as writer:\n",
    "            if i > countOfImagesToGrab:\n",
    "                cam.StopGrabbing()\n",
    "                cam.Close()\n",
    "            else:\n",
    "                writer.append_data(img.GetArray())"
   ]
  },
  {
   "cell_type": "code",
   "execution_count": 29,
   "metadata": {},
   "outputs": [
    {
     "ename": "RuntimeException",
     "evalue": "Failed to open 'Basler acA1300-30gc#00305317E75A#169.254.91.231:3956'. The device is controlled by another application. Err: An attempt was made to access an address location which is currently/momentary not accessible. (0xE1018006)\n : RuntimeException thrown (file 'GigEDevice.cpp', line 280)",
     "output_type": "error",
     "traceback": [
      "\u001b[0;31m---------------------------------------------------------------------------\u001b[0m",
      "\u001b[0;31mRuntimeException\u001b[0m                          Traceback (most recent call last)",
      "\u001b[0;32m/var/folders/jb/_mhmzp250s942sc7s_rh5tzr5d_k2l/T/ipykernel_2626/819909056.py\u001b[0m in \u001b[0;36m<module>\u001b[0;34m\u001b[0m\n\u001b[1;32m      2\u001b[0m \u001b[0mcameras\u001b[0m\u001b[0;34m.\u001b[0m\u001b[0mStopGrabbing\u001b[0m\u001b[0;34m(\u001b[0m\u001b[0;34m)\u001b[0m\u001b[0;34m\u001b[0m\u001b[0;34m\u001b[0m\u001b[0m\n\u001b[1;32m      3\u001b[0m \u001b[0mcountOfImagesToGrab\u001b[0m \u001b[0;34m=\u001b[0m \u001b[0;36m5\u001b[0m\u001b[0;34m\u001b[0m\u001b[0;34m\u001b[0m\u001b[0m\n\u001b[0;32m----> 4\u001b[0;31m \u001b[0mcameras\u001b[0m\u001b[0;34m.\u001b[0m\u001b[0mStartGrabbing\u001b[0m\u001b[0;34m(\u001b[0m\u001b[0;34m)\u001b[0m\u001b[0;34m\u001b[0m\u001b[0;34m\u001b[0m\u001b[0m\n\u001b[0m\u001b[1;32m      5\u001b[0m \u001b[0;32mfor\u001b[0m \u001b[0mi\u001b[0m \u001b[0;32min\u001b[0m \u001b[0mrange\u001b[0m\u001b[0;34m(\u001b[0m\u001b[0mcountOfImagesToGrab\u001b[0m\u001b[0;34m)\u001b[0m\u001b[0;34m:\u001b[0m\u001b[0;34m\u001b[0m\u001b[0;34m\u001b[0m\u001b[0m\n\u001b[1;32m      6\u001b[0m     \u001b[0;32mif\u001b[0m \u001b[0;32mnot\u001b[0m \u001b[0mcameras\u001b[0m\u001b[0;34m.\u001b[0m\u001b[0mIsGrabbing\u001b[0m\u001b[0;34m(\u001b[0m\u001b[0;34m)\u001b[0m\u001b[0;34m:\u001b[0m\u001b[0;34m\u001b[0m\u001b[0;34m\u001b[0m\u001b[0m\n",
      "\u001b[0;32m~/opt/anaconda3/envs/imgtrack/lib/python3.7/site-packages/pypylon/pylon.py\u001b[0m in \u001b[0;36mStartGrabbing\u001b[0;34m(self, *args)\u001b[0m\n\u001b[1;32m   4540\u001b[0m \u001b[0;34m\u001b[0m\u001b[0m\n\u001b[1;32m   4541\u001b[0m         \"\"\"\n\u001b[0;32m-> 4542\u001b[0;31m         \u001b[0;32mreturn\u001b[0m \u001b[0m_pylon\u001b[0m\u001b[0;34m.\u001b[0m\u001b[0mInstantCameraArray_StartGrabbing\u001b[0m\u001b[0;34m(\u001b[0m\u001b[0mself\u001b[0m\u001b[0;34m,\u001b[0m \u001b[0;34m*\u001b[0m\u001b[0margs\u001b[0m\u001b[0;34m)\u001b[0m\u001b[0;34m\u001b[0m\u001b[0;34m\u001b[0m\u001b[0m\n\u001b[0m\u001b[1;32m   4543\u001b[0m \u001b[0;34m\u001b[0m\u001b[0m\n\u001b[1;32m   4544\u001b[0m     \u001b[0;32mdef\u001b[0m \u001b[0mRetrieveResult\u001b[0m\u001b[0;34m(\u001b[0m\u001b[0mself\u001b[0m\u001b[0;34m,\u001b[0m \u001b[0;34m*\u001b[0m\u001b[0margs\u001b[0m\u001b[0;34m)\u001b[0m \u001b[0;34m->\u001b[0m \u001b[0;34m\"bool\"\u001b[0m\u001b[0;34m:\u001b[0m\u001b[0;34m\u001b[0m\u001b[0;34m\u001b[0m\u001b[0m\n",
      "\u001b[0;31mRuntimeException\u001b[0m: Failed to open 'Basler acA1300-30gc#00305317E75A#169.254.91.231:3956'. The device is controlled by another application. Err: An attempt was made to access an address location which is currently/momentary not accessible. (0xE1018006)\n : RuntimeException thrown (file 'GigEDevice.cpp', line 280)"
     ]
    }
   ],
   "source": [
    "# start grabbing images\n",
    "cameras.StopGrabbing()\n",
    "countOfImagesToGrab = 5\n",
    "cameras.StartGrabbing()\n",
    "for i in range(countOfImagesToGrab):\n",
    "    if not cameras.IsGrabbing():\n",
    "        break\n",
    "    for camera in cameras:\n",
    "        grabResult = camera.RetrieveResult(2000, pylon.TimeoutHandling_ThrowException)\n",
    "        cameraContextValue = grabResult.GetCameraContext()\n",
    "        print(\"Camera \", cameraContextValue, \": \", camera.GetDeviceInfo().GetModelName())\n",
    "        print(datetime.now())\n",
    "        img = grabResult.GetArray()\n",
    "        print(img)\n",
    "        rgb_img = cv2.cvtColor(img, cv2.COLOR_BGR2RGB)\n",
    "        plt.imshow(rgb_img)\n",
    "cameras.StopGrabbing()\n"
   ]
  }
 ],
 "metadata": {
  "interpreter": {
   "hash": "9f140f51a507ca230d2865fae58c2e001e9c3439d9e9152fccb487614795348b"
  },
  "kernelspec": {
   "display_name": "Python 3.7.10 64-bit ('imgtrack': conda)",
   "name": "python3"
  },
  "language_info": {
   "codemirror_mode": {
    "name": "ipython",
    "version": 3
   },
   "file_extension": ".py",
   "mimetype": "text/x-python",
   "name": "python",
   "nbconvert_exporter": "python",
   "pygments_lexer": "ipython3",
   "version": "3.7.10"
  },
  "orig_nbformat": 4
 },
 "nbformat": 4,
 "nbformat_minor": 2
}
